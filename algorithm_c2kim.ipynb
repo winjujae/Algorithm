{
 "cells": [
  {
   "cell_type": "code",
   "execution_count": null,
   "id": "53449257-080c-4dc4-97d5-07782919c997",
   "metadata": {},
   "outputs": [],
   "source": [
    "# 알고리즘"
   ]
  },
  {
   "cell_type": "markdown",
   "id": "d30c1b32-774b-4a3d-8f55-cf6984e03ffc",
   "metadata": {},
   "source": [
    "## 1일차"
   ]
  },
  {
   "cell_type": "code",
   "execution_count": 5,
   "id": "90fb5549-5a99-4dbb-ad14-20f61e5a64e0",
   "metadata": {},
   "outputs": [
    {
     "name": "stdin",
     "output_type": "stream",
     "text": [
      " 1 2\n"
     ]
    },
    {
     "name": "stdout",
     "output_type": "stream",
     "text": [
      "3\n"
     ]
    }
   ],
   "source": [
    "# a+b\n",
    "a, b= map(int,input().split())\n",
    "print(a + b)"
   ]
  },
  {
   "cell_type": "code",
   "execution_count": 8,
   "id": "8c0db087-2f58-4289-8590-953afa6d70e5",
   "metadata": {},
   "outputs": [
    {
     "name": "stdin",
     "output_type": "stream",
     "text": [
      " 2\n",
      " 1 3\n"
     ]
    },
    {
     "name": "stdout",
     "output_type": "stream",
     "text": [
      "4\n"
     ]
    },
    {
     "name": "stdin",
     "output_type": "stream",
     "text": [
      " 2 4\n"
     ]
    },
    {
     "name": "stdout",
     "output_type": "stream",
     "text": [
      "6\n"
     ]
    }
   ],
   "source": [
    "# a+b 2\n",
    "n = int(input())\n",
    "\n",
    "for i in range(n):\n",
    "    k = list(map(int, input().split()))\n",
    "    print(sum(k))\n"
   ]
  },
  {
   "cell_type": "code",
   "execution_count": 10,
   "id": "ec613839-2951-484c-bca5-0a8a8d6c9c35",
   "metadata": {},
   "outputs": [
    {
     "name": "stdin",
     "output_type": "stream",
     "text": [
      " 2\n",
      " 2 4 5\n"
     ]
    },
    {
     "name": "stdout",
     "output_type": "stream",
     "text": [
      "11\n"
     ]
    },
    {
     "name": "stdin",
     "output_type": "stream",
     "text": [
      " 2 4 5 6\n"
     ]
    },
    {
     "name": "stdout",
     "output_type": "stream",
     "text": [
      "17\n"
     ]
    }
   ],
   "source": [
    "# 리스트 합\n",
    "n = int(input())\n",
    "for i in range(n):\n",
    "    k = list(map(int,input().split()))\n",
    "    print(sum(k))"
   ]
  },
  {
   "cell_type": "code",
   "execution_count": null,
   "id": "5d721c58-d9bd-4565-a425-065604eea838",
   "metadata": {},
   "outputs": [],
   "source": [
    "n = int(input())\n",
    "k = []\n",
    "def push(a) :\n",
    "    k.append(a)\n",
    "\n",
    "def pop() :\n",
    "    print(k.pop())\n",
    "\n",
    "def size() :\n",
    "    print(len(k))\n",
    "\n",
    "def empty() :\n",
    "    if len(k) == 0 :\n",
    "        print(1)\n",
    "    else :\n",
    "        print(0)\n",
    "\n",
    "def top() :\n",
    "    if len(k) == 0 :\n",
    "        print(-1)\n",
    "    else :\n",
    "        print(k[-1])\n",
    "\n",
    "for i in range(n) :\n",
    "    input()\n",
    "\n",
    "print(k)"
   ]
  },
  {
   "cell_type": "code",
   "execution_count": null,
   "id": "2f23e1c0-74c8-42ca-a736-5e95be63428d",
   "metadata": {},
   "outputs": [],
   "source": [
    "# 스택 구현\n",
    "t = int(input())\n",
    "\n",
    "for i in range(t):\n",
    "    stack = []\n",
    "    ans = []\n",
    "    n = int(input())\n",
    "    queries = list(map(int, input().split()))\n",
    "    for q in queries :\n",
    "        if q > 0 :\n",
    "            stack.append(q)\n",
    "        else :\n",
    "            ans.append(stack.pop())\n",
    "    print(*ans)"
   ]
  },
  {
   "cell_type": "code",
   "execution_count": null,
   "id": "3cf4cb36-47bf-4aca-a114-54f917abb79d",
   "metadata": {},
   "outputs": [],
   "source": [
    "# 큐 구현\n",
    "import collections\n",
    "\n",
    "t = int(input())\n",
    "for _ in range(t):\n",
    "    queue = collections.deque([])\n",
    "    ans = []\n",
    "    n = int(input())\n",
    "    queries = list(map(int, input().split()))\n",
    "    for q in queries :\n",
    "        if q > 0 :\n",
    "            queue.append(q)\n",
    "        else :\n",
    "            ans.append(queue.popleft())\n",
    "    print(*ans)\n"
   ]
  },
  {
   "cell_type": "code",
   "execution_count": null,
   "id": "cea3f049-9ed4-44c4-b64c-c874d3346ee9",
   "metadata": {},
   "outputs": [],
   "source": [
    "# 우선순위 큐 구현\n",
    "import heapq\n",
    "\n",
    "t = int(input())\n",
    "for _ in range(t):\n",
    "    hq = []\n",
    "    ans = []\n",
    "    n = int(input())\n",
    "    queries = list(map(int, input().split()))\n",
    "    for q in queries :\n",
    "        if q > 0 :\n",
    "            heapq.heappush(hq,q)\n",
    "        else :\n",
    "            ans.append(heapq.heappop(hq))\n",
    "    print(*ans)\n"
   ]
  },
  {
   "cell_type": "code",
   "execution_count": null,
   "id": "a9269138-5aa9-4758-a275-bf03d2db94ce",
   "metadata": {},
   "outputs": [],
   "source": [
    "# 굉장히 비효율적인 함수\n",
    "# 시간복잡도 2^n\n",
    "\n",
    "def Fibo(n):\n",
    "    if n <= 2:\n",
    "        return 1\n",
    "    return Fibo(n-1) + Fibo(n-2)\n",
    "\n",
    "t = int(input())\n",
    "for _ in range(t):\n",
    "    n = int(input())\n",
    "    print(Fibo(n))"
   ]
  },
  {
   "cell_type": "code",
   "execution_count": 11,
   "id": "7de3769a-eab5-430b-9622-c5f4f937fb57",
   "metadata": {},
   "outputs": [
    {
     "name": "stdin",
     "output_type": "stream",
     "text": [
      " 2\n",
      " 3\n"
     ]
    },
    {
     "name": "stdout",
     "output_type": "stream",
     "text": [
      "A -> C\n",
      "A -> B\n",
      "C -> B\n",
      "A -> C\n",
      "B -> A\n",
      "B -> C\n",
      "A -> C\n"
     ]
    },
    {
     "name": "stdin",
     "output_type": "stream",
     "text": [
      " 3\n"
     ]
    },
    {
     "name": "stdout",
     "output_type": "stream",
     "text": [
      "A -> C\n",
      "A -> B\n",
      "C -> B\n",
      "A -> C\n",
      "B -> A\n",
      "B -> C\n",
      "A -> C\n"
     ]
    }
   ],
   "source": [
    "# 하노이 탑\n",
    "def Hanoi(n, start, mid, end): # n개의 원판을 start 에서 end 로 옮김\n",
    "    if n == 0:\n",
    "        return\n",
    "    \n",
    "    Hanoi(n-1, start, end, mid) # n-1 개 원판을 start 에서 mid 로 옮김\n",
    "    print(start, '->', end) # 남은 1개를 start 에서 end 로 옮김\n",
    "    Hanoi(n-1, mid, start, end) # mid 로 옮긴 원판을 end 로 옮김\n",
    "    \n",
    "t = int(input()) # 총 하노이 탑을 옮길 시행횟수\n",
    "for _ in range(t):\n",
    "    n = int(input()) # 하노이 탑의 높이설정\n",
    "    Hanoi(n, 'A', 'B', 'C')"
   ]
  },
  {
   "cell_type": "code",
   "execution_count": 28,
   "id": "637a54e0-8557-4fb6-9cf7-85d7b045fc7a",
   "metadata": {},
   "outputs": [
    {
     "name": "stdin",
     "output_type": "stream",
     "text": [
      " 3\n",
      " 1 2 3 4 5\n",
      " 1 3 6\n"
     ]
    },
    {
     "name": "stdout",
     "output_type": "stream",
     "text": [
      "0 2 -1\n"
     ]
    },
    {
     "name": "stdin",
     "output_type": "stream",
     "text": [
      " 1 3 5 7\n",
      " 2 3 6\n"
     ]
    },
    {
     "name": "stdout",
     "output_type": "stream",
     "text": [
      "-1 1 -1\n"
     ]
    },
    {
     "name": "stdin",
     "output_type": "stream",
     "text": [
      " 2 3 4 5 6\n",
      " 5 3 1\n"
     ]
    },
    {
     "name": "stdout",
     "output_type": "stream",
     "text": [
      "3 1 -1\n"
     ]
    }
   ],
   "source": [
    "### 이진탐색\n",
    "def binary(input_list, item, high, low):\n",
    "    while low <= high:\n",
    "        mid = (high + low) // 2\n",
    "        \n",
    "        if input_list[mid] == item:\n",
    "            return mid\n",
    "        elif input_list[mid] > item:\n",
    "            high = mid - 1\n",
    "        else:\n",
    "            low = mid + 1\n",
    "    \n",
    "    return -1\n",
    "\n",
    "t = int(input())\n",
    "for _ in range(t):\n",
    "    input_list = list(map(int, input().split()))\n",
    "    items = list(map(int, input().split()))\n",
    "    answer = []\n",
    "    \n",
    "    for item in items:\n",
    "        result = binary(input_list, item, len(input_list)-1, 0)\n",
    "        answer.append(result)\n",
    "    \n",
    "    print(*answer)"
   ]
  },
  {
   "cell_type": "code",
   "execution_count": 23,
   "id": "6c06e0ea-cbb9-4467-a910-43b505628626",
   "metadata": {},
   "outputs": [
    {
     "name": "stdin",
     "output_type": "stream",
     "text": [
      " 3\n",
      " 2 4 6 8 10\n",
      " 1 3 7\n"
     ]
    },
    {
     "name": "stdout",
     "output_type": "stream",
     "text": [
      "-1 -1 -1\n"
     ]
    },
    {
     "name": "stdin",
     "output_type": "stream",
     "text": [
      " 1 3 5 7\n",
      " 2 3 6\n"
     ]
    },
    {
     "name": "stdout",
     "output_type": "stream",
     "text": [
      "-1 1 -1\n"
     ]
    },
    {
     "name": "stdin",
     "output_type": "stream",
     "text": [
      " 3 7 11 17 21\n",
      " 9 8 4 100 16 17\n"
     ]
    },
    {
     "name": "stdout",
     "output_type": "stream",
     "text": [
      "-1 -1 -1 -1 -1 3\n"
     ]
    }
   ],
   "source": [
    "##### 이진탐색\n",
    "def binary(input_list, item, high, low):\n",
    "    mid = (high + low)//2\n",
    "\n",
    "    while high > low:\n",
    "        if input_list[mid] == item:\n",
    "            return mid\n",
    "        elif input_list[mid] > item:\n",
    "            return binary(input_list, item, high=mid-1, low=low)\n",
    "        elif input_list[mid] < item:\n",
    "            return binary(input_list, item, high=high, low=mid+1)\n",
    "    return -1\n",
    "\n",
    "t = int(input())\n",
    "for _ in range(t):\n",
    "    input_list = list(map(int, input().split()))\n",
    "    items = list(map(int, input().split()))\n",
    "    answer = []\n",
    "    \n",
    "    for item in items:\n",
    "        answer.append(binary(input_list, item, len(input_list)-1, 0))\n",
    "    print(*answer)"
   ]
  },
  {
   "cell_type": "code",
   "execution_count": 27,
   "id": "cd97932c-59d4-47c3-b958-556d1c76e7d6",
   "metadata": {},
   "outputs": [
    {
     "name": "stdin",
     "output_type": "stream",
     "text": [
      " 3\n",
      " 2 4 6 8 10\n",
      " 1 3 7\n"
     ]
    },
    {
     "name": "stdout",
     "output_type": "stream",
     "text": [
      "-1 -1 -1\n"
     ]
    },
    {
     "name": "stdin",
     "output_type": "stream",
     "text": [
      " 1 3 5 7\n",
      " 2 3 6\n"
     ]
    },
    {
     "name": "stdout",
     "output_type": "stream",
     "text": [
      "-1 1 -1\n"
     ]
    },
    {
     "name": "stdin",
     "output_type": "stream",
     "text": [
      " 3 7 11 17 21\n",
      " 9 8 4 100 16 17\n"
     ]
    },
    {
     "name": "stdout",
     "output_type": "stream",
     "text": [
      "-1 -1 -1 -1 -1 3\n"
     ]
    }
   ],
   "source": [
    "def binary(input_list, item, high, low):\n",
    "    mid = (high + low) // 2\n",
    "    \n",
    "    if high <= low:\n",
    "        return -1\n",
    "    \n",
    "    if input_list[mid] == item:\n",
    "        return mid\n",
    "    elif input_list[mid] > item:\n",
    "        return binary(input_list, item, high=mid-1, low=low)\n",
    "    else:\n",
    "        return binary(input_list, item, high=high, low=mid+1)\n",
    "\n",
    "t = int(input())\n",
    "for _ in range(t):\n",
    "    input_list = list(map(int, input().split()))\n",
    "    items = list(map(int, input().split()))\n",
    "    answer = []\n",
    "    \n",
    "    for item in items:\n",
    "        result = binary(input_list, item, len(input_list)-1, 0)\n",
    "        answer.append(result)\n",
    "    \n",
    "    print(*answer)"
   ]
  },
  {
   "cell_type": "code",
   "execution_count": 25,
   "id": "c81b2df5-ee31-4e87-b0a0-6ae1e3811f52",
   "metadata": {},
   "outputs": [
    {
     "name": "stdin",
     "output_type": "stream",
     "text": [
      " 3\n",
      " 2 4 6 8 10\n",
      " 1 3 7\n"
     ]
    },
    {
     "name": "stdout",
     "output_type": "stream",
     "text": [
      "-1 -1 -1\n"
     ]
    },
    {
     "name": "stdin",
     "output_type": "stream",
     "text": [
      " 1 3 5 7\n",
      " 2 3 6\n"
     ]
    },
    {
     "name": "stdout",
     "output_type": "stream",
     "text": [
      "-1 1 -1\n"
     ]
    },
    {
     "name": "stdin",
     "output_type": "stream",
     "text": [
      " 3 7 11 17\n",
      " 9 8 4 100 16 17\n"
     ]
    },
    {
     "name": "stdout",
     "output_type": "stream",
     "text": [
      "-1 -1 -1 -1 -1 3\n"
     ]
    }
   ],
   "source": [
    "# 이진탐색 [라이브러리]\n",
    "import bisect\n",
    "def find(l, x):\n",
    "    i = bisect.bisect_left(l, x)\n",
    "    if i != len(l) and l[i] == x:\n",
    "        return i\n",
    "    return -1\n",
    "\n",
    "t = int(input())\n",
    "for _ in range(t):\n",
    "    data = list(map(int, input().split()))\n",
    "    query = list(map(int, input().split()))\n",
    "    answer = [find(data, x) for x in query]\n",
    "    print(*answer)"
   ]
  },
  {
   "cell_type": "code",
   "execution_count": 79,
   "id": "43e4d45f-218d-461a-8d93-44dc914b0833",
   "metadata": {},
   "outputs": [
    {
     "name": "stdin",
     "output_type": "stream",
     "text": [
      " 5\n",
      " 6\n",
      " 5 15 25 35 45\n",
      " 1 8 17\n"
     ]
    },
    {
     "name": "stdout",
     "output_type": "stream",
     "text": [
      "3\n"
     ]
    },
    {
     "name": "stdin",
     "output_type": "stream",
     "text": [
      " 5\n",
      " 1 3 5 7 9\n",
      " 1 3 5 7 9\n"
     ]
    },
    {
     "name": "stdout",
     "output_type": "stream",
     "text": [
      "19\n"
     ]
    },
    {
     "name": "stdin",
     "output_type": "stream",
     "text": [
      " 1\n",
      " 4 8 10 10 10 14 16\n",
      " 10 4\n"
     ]
    },
    {
     "name": "stdout",
     "output_type": "stream",
     "text": [
      "4\n"
     ]
    },
    {
     "name": "stdin",
     "output_type": "stream",
     "text": [
      " 3\n",
      " 10 10 20 20 30 30 40 40 50 50\n",
      " 320 160 80 40 20 10\n"
     ]
    },
    {
     "name": "stdout",
     "output_type": "stream",
     "text": [
      "6\n"
     ]
    },
    {
     "name": "stdin",
     "output_type": "stream",
     "text": [
      " 100\n",
      " 1358 1479 1479 1759 1891 2497 3457 4195 4584 4587 4781 5191 5417 5497 5781 5951 7174 7197 8145 8294 9147 9187 9417\n",
      " 1479 1497 1947 1749 1794 1974 4179 4719 4791 4917 4971\n"
     ]
    },
    {
     "name": "stdout",
     "output_type": "stream",
     "text": [
      "12\n"
     ]
    }
   ],
   "source": [
    "# 이진탐색 4 - 시간복잡도 높음(타임리밋)\n",
    "def binary(input_list, item, high, low):\n",
    "    mid = (high + low) // 2\n",
    "\n",
    "    while low <= high:\n",
    "        if input_list[mid] == item:\n",
    "            return mid\n",
    "        elif input_list[mid] > item:\n",
    "            high = mid - 1\n",
    "        elif input_list[mid] < item:\n",
    "            low = mid + 1\n",
    "        mid = (high + low) // 2\n",
    "    return -1\n",
    "\n",
    "t = int(input())\n",
    "for _ in range(t):\n",
    "    K = int(input())\n",
    "    input_list = list(map(int, input().split()))\n",
    "    queries = list(map(int, input().split()))\n",
    "\n",
    "    input_list.sort()  # input_list를 정렬\n",
    "    count = 0\n",
    "    for query in queries:\n",
    "        for item in input_list:\n",
    "            if abs(item - query) <= K:  # item과 query의 차이가 K 이내라면\n",
    "                count += 1\n",
    "            elif item > query:  # input_list가 정렬되어 있으므로 item이 query보다 크면 더 이상 범위 내에 없음\n",
    "                break\n",
    "    print(count)"
   ]
  },
  {
   "cell_type": "code",
   "execution_count": 9,
   "id": "bd57ae3d-6bed-477f-a605-cc104cfa7b21",
   "metadata": {},
   "outputs": [
    {
     "name": "stdin",
     "output_type": "stream",
     "text": [
      " 5\n",
      " 6\n",
      " 5 15 25 35 45\n",
      " 1 8 17\n"
     ]
    },
    {
     "name": "stdout",
     "output_type": "stream",
     "text": [
      "3\n"
     ]
    },
    {
     "name": "stdin",
     "output_type": "stream",
     "text": [
      " 5\n",
      " 1 3 5 7 9\n",
      " 1 3 5 7 9\n"
     ]
    },
    {
     "name": "stdout",
     "output_type": "stream",
     "text": [
      "19\n"
     ]
    },
    {
     "name": "stdin",
     "output_type": "stream",
     "text": [
      " 1\n",
      " 4 8 10 10 10 14 16\n",
      " 10 4\n"
     ]
    },
    {
     "name": "stdout",
     "output_type": "stream",
     "text": [
      "4\n"
     ]
    },
    {
     "name": "stdin",
     "output_type": "stream",
     "text": [
      " 3\n",
      " 10 10 20 20 30 30 40 40 50 50\n",
      " 320 160 80 40 20 10\n"
     ]
    },
    {
     "name": "stdout",
     "output_type": "stream",
     "text": [
      "6\n"
     ]
    },
    {
     "name": "stdin",
     "output_type": "stream",
     "text": [
      " 100\n",
      " 1358 1479 1479 1759 1891 2497 3457 4195 4584 4587 4781 5191 5417 5497 5781 5951 7174 7197 8145 8294 9147 9187 9417\n",
      " 1479 1497 1947 1749 1794 1974 4179 4719 4791 4917 4971\n"
     ]
    },
    {
     "name": "stdout",
     "output_type": "stream",
     "text": [
      "12\n"
     ]
    }
   ],
   "source": [
    "# 이진탐색 4 - 시간복잡도 낮으나 그래도 timelimit\n",
    "def binary_search(input_list, target):\n",
    "    low, high = 0, len(input_list) - 1\n",
    "    count = 0  # 존재하는 개수를 세기 위한 변수 추가\n",
    "    while low <= high:\n",
    "        mid = (low + high) // 2\n",
    "        if input_list[mid] == target:\n",
    "            count += 1  # 타겟을 찾았을 때 count를 증가\n",
    "            # 같은 값을 가진 다른 원소가 있는지 확인\n",
    "            left, right = mid - 1, mid + 1\n",
    "            while left >= 0 and input_list[left] == target:\n",
    "                count += 1\n",
    "                left -= 1\n",
    "            while right < len(input_list) and input_list[right] == target:\n",
    "                count += 1\n",
    "                right += 1\n",
    "            return count  # 모든 타겟의 개수 반환\n",
    "        elif input_list[mid] < target:\n",
    "            low = mid + 1\n",
    "        else:\n",
    "            high = mid - 1\n",
    "    return count  # 타겟을 찾지 못했을 때 0 반환\n",
    "\n",
    "t = int(input())\n",
    "for _ in range(t):\n",
    "    K = int(input())\n",
    "    input_list = list(map(int, input().split()))\n",
    "    queries = list(map(int, input().split()))\n",
    "\n",
    "    input_list.sort()  # input_list를 정렬\n",
    "\n",
    "    count = 0\n",
    "    for query in queries:\n",
    "        total_count = 0\n",
    "        for i in range(2 * K + 1):\n",
    "            total_count += binary_search(input_list, query - K + i)\n",
    "        count += total_count\n",
    "    print(count)\n"
   ]
  },
  {
   "cell_type": "code",
   "execution_count": 12,
   "id": "fe13ec0c-2370-494b-88c1-ec13e50bdcf0",
   "metadata": {},
   "outputs": [
    {
     "name": "stdin",
     "output_type": "stream",
     "text": [
      " 5\n",
      " 6\n",
      " 5 15 25 35 45\n",
      " 1 8 17\n"
     ]
    },
    {
     "name": "stdout",
     "output_type": "stream",
     "text": [
      "3\n"
     ]
    },
    {
     "name": "stdin",
     "output_type": "stream",
     "text": [
      " 5\n",
      " 1 3 5 7 9\n",
      " 1 3 5 7 9\n"
     ]
    },
    {
     "name": "stdout",
     "output_type": "stream",
     "text": [
      "19\n"
     ]
    },
    {
     "name": "stdin",
     "output_type": "stream",
     "text": [
      " 1\n",
      " 4 8 10 10 10 14 16\n",
      " 10 4\n"
     ]
    },
    {
     "name": "stdout",
     "output_type": "stream",
     "text": [
      "4\n"
     ]
    },
    {
     "name": "stdin",
     "output_type": "stream",
     "text": [
      " 3\n",
      " 10 10 20 20 30 30 40 40 50 50\n",
      " 320 160 80 40 20 10\n"
     ]
    },
    {
     "name": "stdout",
     "output_type": "stream",
     "text": [
      "6\n"
     ]
    },
    {
     "name": "stdin",
     "output_type": "stream",
     "text": [
      " 100\n",
      " 1358 1479 1479 1759 1891 2497 3457 4195 4584 4587 4781 5191 5417 5497 5781 5951 7174 7197 8145 8294 9147 9187 9417\n",
      " 1479 1497 1947 1749 1794 1974 4179 4719 4791 4917 4971\n"
     ]
    },
    {
     "name": "stdout",
     "output_type": "stream",
     "text": [
      "12\n"
     ]
    }
   ],
   "source": [
    "# 이진탐색 4 - 제출\n",
    "from collections import defaultdict\n",
    "\n",
    "t = int(input())\n",
    "for _ in range(t):\n",
    "    K = int(input())\n",
    "    input_list = list(map(int, input().split()))\n",
    "    queries = list(map(int, input().split()))\n",
    "\n",
    "    input_list.sort()  # input_list를 정렬\n",
    "\n",
    "    count = 0\n",
    "    input_dict = defaultdict(int)  # 입력 리스트의 값들의 등장 횟수를 저장하는 사전\n",
    "\n",
    "    for num in input_list:\n",
    "        input_dict[num] += 1  # 입력 리스트의 값들의 등장 횟수를 세기\n",
    "\n",
    "    for query in queries:\n",
    "        for i in range(2 * K + 1):\n",
    "            count += input_dict[query - K + i]\n",
    "\n",
    "    print(count)\n"
   ]
  },
  {
   "cell_type": "markdown",
   "id": "af1f9641-3ae1-4d0f-ac54-fbc9fe7547a0",
   "metadata": {},
   "source": [
    "## 2일차"
   ]
  },
  {
   "cell_type": "code",
   "execution_count": 2,
   "id": "f3f7aa2d-200c-4888-838e-d3f3b16274d8",
   "metadata": {},
   "outputs": [],
   "source": [
    "# 인접 행렬 그래프\n",
    "t = int(input())\n",
    "for _ in range(t):\n",
    "    N, M = map(int, input().split())\n",
    "    \n",
    "    Matrix = [[0] * N for _ in range(N)]\n",
    "    \n",
    "    for i in range(M):\n",
    "        u, v, c, = map(int, input().split())\n",
    "        Matrix[u][v] = c\n",
    "        \n",
    "    for i in range(N):\n",
    "        print(*Matrix[i])"
   ]
  },
  {
   "cell_type": "code",
   "execution_count": 3,
   "id": "3e5af5bc-0827-48af-af82-d17c60e74419",
   "metadata": {},
   "outputs": [],
   "source": [
    "t = int(input())\n",
    "for _ in range(t):\n",
    "    N, M = map(int, input().split())\n",
    "    \n",
    "    Matrix = [[0] * N for _ in range(N)]\n",
    "    \n",
    "    for _ in range(M):\n",
    "        u, v, c = map(int, input().split())\n",
    "        Matrix[u][v] = c\n",
    "        \n",
    "    print(Matrix)"
   ]
  },
  {
   "cell_type": "code",
   "execution_count": null,
   "id": "4297aac0-7b4e-427c-bc90-4e5a89b43c19",
   "metadata": {},
   "outputs": [],
   "source": [
    "# 인접 리스트\n",
    "t = int(input())\n",
    "for _ in range(t):\n",
    "    N, M = map(int, input().split())\n",
    "    \n",
    "    List = [[] for _ in range(N)]\n",
    "    \n",
    "    for i in range(M):\n",
    "        u, v = map(int, input().split())\n",
    "        List[u].append(v)\n",
    "        List[v].append(u)\n",
    "\n",
    "    \n",
    "    for i in range(N):\n",
    "        List[i].sort()\n",
    "        print(*List[i])"
   ]
  },
  {
   "cell_type": "code",
   "execution_count": null,
   "id": "ecf30864-93b3-40bc-b59b-d2b1cc3bd81d",
   "metadata": {},
   "outputs": [],
   "source": [
    "# BFS\n",
    "from collections import deque\n",
    "\n",
    "t = int(input())\n",
    "for _ in range(t):\n",
    "    N, M = map(int, input().split())\n",
    "    \n",
    "    List = [[] for _ in range(N)]\n",
    "    \n",
    "    for i in range(M):\n",
    "        u, v = map(int, input().split())\n",
    "        List[u].append(v)\n",
    "        \n",
    "    for i in range(N):\n",
    "        List[i].sort()\n",
    "    \n",
    "    Check = [False] * N # 방문 했는지 안 했는지 확인\n",
    "    Queue = deque([0]) # 큐 초기화\n",
    "\n",
    "    while len(Queue)> 0:\n",
    "        v = Queue.popleft() # 큐에서 나오는 v\n",
    "        if Check[v] == True: # v가 이 시점에 방문했다면\n",
    "            continue\n",
    "            \n",
    "        Check[v] = True \n",
    "        print(v, end=' ')\n",
    "        \n",
    "        for i in List[v]: # v와 연결된 모든 정점 중\n",
    "            if Check[i] == False: # 아직 가지 않은 i 가 있다면\n",
    "                Queue.append(i) # 큐에 push\n",
    "    print('')"
   ]
  },
  {
   "cell_type": "code",
   "execution_count": null,
   "id": "ba74fb40-6673-4678-9369-e5128fd6ff70",
   "metadata": {},
   "outputs": [],
   "source": [
    "# 조교님\n",
    "\n",
    "import collections\n",
    "\n",
    "t = int(input())\n",
    "for _ in range(t):\n",
    "    queue = collections.deque([])\n",
    "    ans = []\n",
    "    dummy =  int(input())\n",
    "    qry = list(map(int, input().split()))\n",
    "     \n",
    "    for q in qry:\n",
    "        if q > 0:\n",
    "            queue.append(q)\n",
    "        else:\n",
    "            ans.append(queue.popleft())\n",
    "    print(*ans)"
   ]
  },
  {
   "cell_type": "code",
   "execution_count": null,
   "id": "ef185376-e34c-42f6-9f32-35b54e25520b",
   "metadata": {},
   "outputs": [],
   "source": [
    "# 재귀 DFS(깊이 우선 탐색)\n",
    "import sys\n",
    "sys.setrecursionlimit(1000000) # 재귀 양 짱 많으면 메모리 터지니까 그거 방지\n",
    "\n",
    "def DFS(v, Link, Check):\n",
    "    print(v, end=' ')\n",
    "    Check[v] = True # \n",
    "    for i in List[v]:\n",
    "        if Check[i] == False:\n",
    "            DFS(i, Link, Check)\n",
    "        \n",
    "t = int(input())\n",
    "\n",
    "for _ in range(t):\n",
    "    N, M = map(int, input().split())\n",
    "    \n",
    "    List = [[] for _ in range(N)]\n",
    "    \n",
    "    for i in range(M):\n",
    "        u, v = map(int, input().split())\n",
    "        List[u].append(v)\n",
    "        List[v].append(u)\n",
    "        \n",
    "    for i in range(N):\n",
    "        List[i].sort()\n",
    "    \n",
    "    Check = [False] * N\n",
    "    DFS(0, List[i], Check)\n",
    "    print('')"
   ]
  },
  {
   "cell_type": "code",
   "execution_count": null,
   "id": "a365e8d4-25ee-430e-b028-6b0c9bf978ca",
   "metadata": {},
   "outputs": [],
   "source": [
    "# 스택 DFS(깊이 우선 탐색)\n",
    "t = int(input())\n",
    "for _ in range(t):\n",
    "    N, M = map(int, input().split())\n",
    "    \n",
    "    List = [[] for _ in range(N)]\n",
    "    \n",
    "    for i in range(M):\n",
    "        u, v = map(int, input().split())\n",
    "        List[u].append(v)\n",
    "        List[v].append(u)\n",
    "        \n",
    "    for i in range(N):\n",
    "        List[i].sort(reverse=True)\n",
    "    \n",
    "\n",
    "    Check = [False] * N # 방문 했는지 안 했는지 확인\n",
    "    Stack = [0]# 큐 초기화\n",
    "\n",
    "    while Stack:\n",
    "        v = Stack.pop() # 큐에서 나오는 v\n",
    "        if Check[v] == True: # v가 이 시점에 방문했다면\n",
    "            continue\n",
    "            \n",
    "        Check[v] = True\n",
    "        \n",
    "        print(v, end=' ')\n",
    "        \n",
    "        for i in List[v]: # v와 연결된 모든 정점 중\n",
    "            if Check[i] == False: \n",
    "                Stack.append(i)\n",
    "                \n",
    "    print('')"
   ]
  },
  {
   "cell_type": "code",
   "execution_count": null,
   "id": "2ac0fb8d-758f-4ced-948f-07ef1547d7e4",
   "metadata": {},
   "outputs": [],
   "source": [
    "# 인접 행렬 사용 \n",
    "# Inf = int(inf)\n",
    "# t = int(input())\n",
    "# for _ in range(t):\n",
    "#     N, M = map(int, input().split())\n",
    "    \n",
    "#     Matrix = [[0] * N for _ in range(N)]\n",
    "    \n",
    "#     for i in range(M):\n",
    "#         u, v, c, = map(int, input().split())\n",
    "#         Matrix[u][v] = c\n",
    "        \n",
    "    visited = [False]*n\n",
    "    dist = [-1]*n\n",
    "    hq = []\n",
    "    heapq.heappush(0, 0)\n",
    "    \n",
    "    while len(hq) > 0:\n",
    "        d, u = heapq.heappushpop(hq)\n",
    "        \n",
    "        if visit[u] == False:\n",
    "            visit[u] = True\n",
    "            dist[u] = d\n",
    "            \n",
    "            for i in Matrix[u]:\n",
    "                if visit[Matrix[u]] == False:\n",
    "                    heapq.heappush(hq, [d+i[0], i[1]])               \n",
    "    print(dist[-1])"
   ]
  },
  {
   "cell_type": "code",
   "execution_count": null,
   "id": "257fb8d9-2429-4362-b5e8-cd90e33f5aa8",
   "metadata": {},
   "outputs": [],
   "source": [
    "# 최단 경로 구하기\n",
    "import heapq\n",
    "\n",
    "for t in range(int(input())):\n",
    "    N, M = map(int, input().split())\n",
    "    graph = [[] for _ in range(N)] # 인접 리스트 정의\n",
    "    for _ in range(M):\n",
    "        u, v, c = map(int, input().split()) # 출발 정점, 도착 정점, 가중치 입력\n",
    "        graph[u].append([v, c]) # 입력받은 정보를 인접리스트에 반영\n",
    "    \n",
    "    visit = [False]*N # 정점 방문 여부를 저장하는 리스트\n",
    "    dist = [-1]*N # 0번 정점으로부터의 거리를 저장하는 리스트\n",
    "    hq = [] # 우선순위 큐에 사용할 리스트 초기화\n",
    "    heapq.heappush(hq, (0, 0)) # 0번 정점에서 0번 정점까지의 거리는 0 , 0번 정점부터 시작(순서 주의)\n",
    "    \n",
    "    while len(hq) > 0:\n",
    "        d, u = heapq.heappop(hq)\n",
    "        \n",
    "        if visit[u] == False: # 현재 정점이 아직 방문되지 않았다면 진행\n",
    "            visit[u] = True\n",
    "            dist[u] = d\n",
    "            \n",
    "            for i in graph[u]:\n",
    "                if visit[i[0]] == False:\n",
    "                    heapq.heappush(hq, [d+i[1], i[0]])               \n",
    "    print(dist[-1]) # 목표 정점까지의 거리를 출력(도달하지 못할 시 -1 출력)"
   ]
  },
  {
   "cell_type": "code",
   "execution_count": 116,
   "id": "f8492319-0064-41b7-a9bb-0489117d1ce2",
   "metadata": {},
   "outputs": [
    {
     "name": "stdin",
     "output_type": "stream",
     "text": [
      " 4\n",
      " 200\n"
     ]
    },
    {
     "name": "stdout",
     "output_type": "stream",
     "text": [
      "2\n"
     ]
    },
    {
     "name": "stdin",
     "output_type": "stream",
     "text": [
      " 700\n"
     ]
    },
    {
     "name": "stdout",
     "output_type": "stream",
     "text": [
      "3\n"
     ]
    },
    {
     "name": "stdin",
     "output_type": "stream",
     "text": [
      " 7900\n"
     ]
    },
    {
     "name": "stdout",
     "output_type": "stream",
     "text": [
      "8\n"
     ]
    },
    {
     "name": "stdin",
     "output_type": "stream",
     "text": [
      " 53200\n"
     ]
    },
    {
     "name": "stdout",
     "output_type": "stream",
     "text": [
      "6\n"
     ]
    }
   ],
   "source": [
    "# 세금 징수 1\n",
    "t = int(input())\n",
    "\n",
    "for i in range(t):\n",
    "    coins = [50000, 10000, 5000, 1000, 500, 100]\n",
    "    tax = int(input())\n",
    "    ans = []\n",
    "    for coin in coins:\n",
    "        ans.append(tax // coin)\n",
    "        tax -= coin * (tax//coin)\n",
    "    print(sum(ans))\n"
   ]
  },
  {
   "cell_type": "code",
   "execution_count": null,
   "id": "773b16d7-baa1-4e8d-8bc4-73a2b9fa0feb",
   "metadata": {},
   "outputs": [],
   "source": [
    "# 세금 징수 \n",
    "for t in range(int(input())):\n",
    "    n = int(input())\n",
    "    coins = [50000, 10000, 5000, 1000, 500, 100]\n",
    "    \n",
    "    li_counts = []\n",
    "    for coin in coins:\n",
    "        counts = n // coin\n",
    "        li_counts.append(counts)\n",
    "        n -= counts*coin\n",
    "        \n",
    "    print(sum(li_counts))"
   ]
  },
  {
   "cell_type": "code",
   "execution_count": null,
   "id": "94fed371-c958-438d-84f4-3bcc46156ef1",
   "metadata": {},
   "outputs": [],
   "source": [
    "# 조교님\n",
    "# 세금 징수 \n",
    "for t in range(int(input())):\n",
    "    n = int(input())\n",
    "    coins = [50000, 10000, 5000, 1000, 500, 100]\n",
    "    \n",
    "    coinnum = 0\n",
    "    for coin in coins:\n",
    "        coinnum += n//coin\n",
    "        n %= coin\n",
    "\n",
    "    print(coinnum)"
   ]
  },
  {
   "cell_type": "code",
   "execution_count": null,
   "id": "6493b99f-5282-44c2-b2f2-c964ccd8ac6b",
   "metadata": {},
   "outputs": [],
   "source": []
  },
  {
   "cell_type": "code",
   "execution_count": null,
   "id": "6dd8a865-b14e-49f1-bfed-7d5789a87252",
   "metadata": {},
   "outputs": [],
   "source": [
    "# 무거운 용액 - 조교님\n",
    "for t in range(int(input())):\n",
    "    N, C = map(int, input().split())\n",
    "    liquidlist = []\n",
    "    \n",
    "    for i in range(N):\n",
    "        w, v = map(int, input().split())\n",
    "        liquidlist.append((w/v, w, v)) # 밀도, 무게, 부피 \n",
    "    liquidlist.sort(reverse=True)\n",
    "    maxg = 0\n",
    "\n",
    "    for i in range(N):\n",
    "        if C >= liquidlist[i][2]: # 채우고자 하는 용액보다 크다면 다 넣을 수 있다\n",
    "            maxg += liquidlist[i][1] # i번째 용액이 가지고 있는 전체 무게 \n",
    "            C -= liquidlist[i][2] # liquidlist[i][2]만큼 넣었으니 C에서 빼줌 \n",
    "        else:\n",
    "            maxg += C*(liquidlist[i][0])# 밀도*일정밀도 \n",
    "            break\n",
    "            \n",
    "    print(int(maxg))"
   ]
  },
  {
   "cell_type": "code",
   "execution_count": null,
   "id": "1175dc78-09f3-4035-937f-dc1a64fc1acc",
   "metadata": {},
   "outputs": [],
   "source": [
    "# 피보나치 2\n",
    "t = int(input())\n",
    "\n",
    "for _ in range(t):\n",
    "    n = int(input())\n",
    "    \n",
    "    fibo = [0] * (n+1)\n",
    "    \n",
    "    for i in range(n+1):\n",
    "        if i in [1, 2]:\n",
    "            fibo[i] = 1\n",
    "        else:\n",
    "            fibo[i] = fibo[i-1] + fibo[i-2]\n",
    "            \n",
    "    print(fibo[n])"
   ]
  },
  {
   "cell_type": "code",
   "execution_count": null,
   "id": "0c4949d7-9fbb-4ed4-b79d-e98724582b57",
   "metadata": {},
   "outputs": [],
   "source": [
    "t = int(input())\n",
    "\n",
    "for _ in range(t):\n",
    "    n = int(input())\n",
    "    \n",
    "    fibo = [0] * (n+1)\n",
    "    \n",
    "    for i in range(1, n+1):\n",
    "        if i == 1 or i ==2:\n",
    "            fibo[i] = 1\n",
    "        else:\n",
    "            fibo[i] = fibo[i-1] + fibo[i-2]\n",
    "            \n",
    "    print(fibo[n])"
   ]
  },
  {
   "cell_type": "code",
   "execution_count": null,
   "id": "2e234c1d-b02e-4845-8ff9-420c7903b6c4",
   "metadata": {},
   "outputs": [],
   "source": [
    "# 세계암기대회\n",
    "for t in range(int(input())):\n",
    "    n, m = map(int, input().split())\n",
    "    data = []\n",
    "    for i in range(n):\n",
    "        data.append(list(map(int, input().split())))\n",
    "    # T[i][j] : (0,0)에서 (i,j)에 도달했을 때 잃을 수 있는 최소 점수 \n",
    "    T = [[0] * m for i in range(n)]\n",
    "    for i in range(n):\n",
    "        for j in range(m):\n",
    "            if i == 0 and j == 0:\n",
    "                T[i][j] = data[i][j] # 시작칸인 경우 : 시작 칸 점수\n",
    "            # 제일 위쪽\n",
    "            elif i == 0:\n",
    "                T[i][j] = T[i][j-1] + data[i][j] # 왼쪽으로부터만 현재칸으로 이동 가능\n",
    "            # 제일 왼쪽    \n",
    "            elif j == 0:\n",
    "                T[i][j] = T[i-1][j] + data[i][j] # 위쪽으로부터만 현재칸으로 이동 가능\n",
    "            # 그 외 \n",
    "            else:\n",
    "                T[i][j] =  min(T[i][j-1], T[i-1][j], T[i-1][j-1]) + data[i][j]\n",
    "    print(T[n-1][m-1])"
   ]
  },
  {
   "cell_type": "code",
   "execution_count": 12,
   "id": "b70d649f-0a47-48bd-b039-fc01c6ac10df",
   "metadata": {},
   "outputs": [
    {
     "name": "stdin",
     "output_type": "stream",
     "text": [
      " 5\n",
      " 6\n",
      " 5 15 25 35 45\n",
      " 1 8 17\n"
     ]
    },
    {
     "name": "stdout",
     "output_type": "stream",
     "text": [
      "3\n"
     ]
    },
    {
     "name": "stdin",
     "output_type": "stream",
     "text": [
      " 5\n",
      " 1 3 5 7 9\n",
      " 1 3 5 7 9\n"
     ]
    },
    {
     "name": "stdout",
     "output_type": "stream",
     "text": [
      "19\n"
     ]
    },
    {
     "name": "stdin",
     "output_type": "stream",
     "text": [
      " 1\n",
      " 4 8 10 10 10 14 16\n",
      " 10 4\n"
     ]
    },
    {
     "name": "stdout",
     "output_type": "stream",
     "text": [
      "4\n"
     ]
    },
    {
     "name": "stdin",
     "output_type": "stream",
     "text": [
      " 3\n",
      " 10 10 20 20 30 30 40 40 50 50\n",
      " 320 160 80 40 20 10\n"
     ]
    },
    {
     "name": "stdout",
     "output_type": "stream",
     "text": [
      "6\n"
     ]
    },
    {
     "name": "stdin",
     "output_type": "stream",
     "text": [
      " 100\n",
      " 1358 1479 1479 1759 1891 2497 3457 4195 4584 4587 4781 5191 5417 5497 5781 5951 7174 7197 8145 8294 9147 9187 9417\n",
      " 1479 1497 1947 1749 1794 1974 4179 4719 4791 4917 4971\n"
     ]
    },
    {
     "name": "stdout",
     "output_type": "stream",
     "text": [
      "12\n"
     ]
    }
   ],
   "source": [
    "# hw1 이진탐색4\n",
    "from collections import defaultdict\n",
    "\n",
    "t = int(input())\n",
    "for _ in range(t):\n",
    "    K = int(input())\n",
    "    input_list = list(map(int, input().split()))\n",
    "    queries = list(map(int, input().split()))\n",
    "\n",
    "    input_list.sort()  # input_list를 정렬\n",
    "\n",
    "    count = 0\n",
    "    input_dict = defaultdict(int)  # 입력 리스트의 값들의 등장 횟수를 저장하는 사전\n",
    "\n",
    "    for num in input_list:\n",
    "        input_dict[num] += 1  # 입력 리스트의 값들의 등장 횟수를 세기\n",
    "\n",
    "    for query in queries:\n",
    "        for i in range(2 * K + 1):\n",
    "            count += input_dict[query - K + i]\n",
    "\n",
    "    print(count)\n"
   ]
  },
  {
   "cell_type": "code",
   "execution_count": 50,
   "id": "9ef47de3-c5bc-47ea-94cb-8c62d06b6164",
   "metadata": {},
   "outputs": [
    {
     "name": "stdin",
     "output_type": "stream",
     "text": [
      " 2\n",
      " 2 1 0\n",
      " 0 1\n"
     ]
    },
    {
     "name": "stdout",
     "output_type": "stream",
     "text": [
      "0\n"
     ]
    },
    {
     "name": "stdin",
     "output_type": "stream",
     "text": [
      " 10 12 5\n",
      " 1 5\n",
      " 8 1\n",
      " 8 6\n",
      " 4 8\n",
      " 9 7\n",
      " 4 6\n",
      " 1 3\n",
      " 3 7\n",
      " 5 6\n",
      " 9 8\n",
      " 5 9\n",
      " 7 4\n"
     ]
    },
    {
     "name": "stdout",
     "output_type": "stream",
     "text": [
      "2\n"
     ]
    }
   ],
   "source": [
    "# hw2 랜선웨어\n",
    "from collections import deque\n",
    "\n",
    "def count(n, connections, k):\n",
    "    graph = [[] for _ in range(n)]\n",
    "    infected = [False] * n \n",
    "    infected[k] = True\n",
    "\n",
    "    for a, b in connections:\n",
    "        graph[a].append(b)\n",
    "        graph[b].append(a)\n",
    "\n",
    "    queue = deque([k])\n",
    "    while queue:\n",
    "        curr = queue.popleft()\n",
    "        for neighbor in graph[curr]:\n",
    "            if not infected[neighbor]:\n",
    "                infected[neighbor] = True\n",
    "                queue.append(neighbor)\n",
    "\n",
    "    uninfected_count = infected.count(False)\n",
    "\n",
    "    return uninfected_count\n",
    "\n",
    "t = int(input())\n",
    "for _ in range(t):\n",
    "    n, m, k = map(int, input().split())\n",
    "    connections = []\n",
    "    for _ in range(m):\n",
    "        a, b = map(int, input().split())\n",
    "        connections.append((a, b))\n",
    "    uninfected = count(n, connections, k)\n",
    "    print(uninfected)\n"
   ]
  },
  {
   "cell_type": "code",
   "execution_count": 112,
   "id": "755b1bdc-0174-44f4-87d0-0f3070a45c15",
   "metadata": {},
   "outputs": [
    {
     "name": "stdin",
     "output_type": "stream",
     "text": [
      " 7\n",
      " 1\n"
     ]
    },
    {
     "name": "stdout",
     "output_type": "stream",
     "text": [
      "1\n"
     ]
    },
    {
     "name": "stdin",
     "output_type": "stream",
     "text": [
      " 2\n"
     ]
    },
    {
     "name": "stdout",
     "output_type": "stream",
     "text": [
      "2\n"
     ]
    },
    {
     "name": "stdin",
     "output_type": "stream",
     "text": [
      " 3\n"
     ]
    },
    {
     "name": "stdout",
     "output_type": "stream",
     "text": [
      "4\n"
     ]
    },
    {
     "name": "stdin",
     "output_type": "stream",
     "text": [
      " 4\n"
     ]
    },
    {
     "name": "stdout",
     "output_type": "stream",
     "text": [
      "7\n"
     ]
    },
    {
     "name": "stdin",
     "output_type": "stream",
     "text": [
      " 5\n"
     ]
    },
    {
     "name": "stdout",
     "output_type": "stream",
     "text": [
      "13\n"
     ]
    },
    {
     "name": "stdin",
     "output_type": "stream",
     "text": [
      " 10\n"
     ]
    },
    {
     "name": "stdout",
     "output_type": "stream",
     "text": [
      "274\n"
     ]
    },
    {
     "name": "stdin",
     "output_type": "stream",
     "text": [
      " 100\n"
     ]
    },
    {
     "name": "stdout",
     "output_type": "stream",
     "text": [
      "782133773\n"
     ]
    }
   ],
   "source": [
    "# hw3 돌다리 건너가기\n",
    "def count_ways_to_cross_stones(n):\n",
    "    if n <= 1:\n",
    "        return 1\n",
    "    if n == 2:\n",
    "        return 2\n",
    "    if n == 3:\n",
    "        return 4\n",
    "\n",
    "    dp = [0] * (n + 1)\n",
    "\n",
    "    # 초기값 설정\n",
    "    dp[0] = 1  # 0번째 돌다리는 이미 건넌 상태로 처리\n",
    "    dp[1] = 1  # 1번째 돌다리는 한 칸을 통해 도달 가능\n",
    "    dp[2] = 2  # 2번째 돌다리는 한 칸 또는 두 칸을 통해 도달 가능\n",
    "    dp[3] = 4  # 3번째 돌다리는 한 칸, 두 칸, 또는 세 칸을 통해 도달 가능\n",
    "\n",
    "    MOD = 1904101441\n",
    "    \n",
    "    for i in range(4, n + 1):\n",
    "        dp[i] = (dp[i - 1] + dp[i - 2] + dp[i - 3]) % MOD\n",
    "    \n",
    "    if dp[n] >= 1904101441 :\n",
    "        dp[n] % 1904101441\n",
    "    return dp[n]\n",
    "\n",
    "t = int(input())\n",
    "for _ in range(t):\n",
    "    n = int(input())\n",
    "    ways = count_ways_to_cross_stones(n)\n",
    "    print(ways)"
   ]
  },
  {
   "cell_type": "code",
   "execution_count": null,
   "id": "932d5505-f5b2-4f2c-b776-f60435b34230",
   "metadata": {},
   "outputs": [],
   "source": []
  }
 ],
 "metadata": {
  "kernelspec": {
   "display_name": "Python 3 (ipykernel)",
   "language": "python",
   "name": "python3"
  },
  "language_info": {
   "codemirror_mode": {
    "name": "ipython",
    "version": 3
   },
   "file_extension": ".py",
   "mimetype": "text/x-python",
   "name": "python",
   "nbconvert_exporter": "python",
   "pygments_lexer": "ipython3",
   "version": "3.8.16"
  }
 },
 "nbformat": 4,
 "nbformat_minor": 5
}
